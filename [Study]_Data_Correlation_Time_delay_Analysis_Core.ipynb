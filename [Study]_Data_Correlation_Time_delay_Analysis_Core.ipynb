{
  "nbformat": 4,
  "nbformat_minor": 0,
  "metadata": {
    "colab": {
      "name": "[Study] Data Correlation - Time delay Analysis_Core",
      "provenance": [],
      "collapsed_sections": [],
      "include_colab_link": true
    },
    "kernelspec": {
      "name": "python3",
      "display_name": "Python 3"
    }
  },
  "cells": [
    {
      "cell_type": "markdown",
      "metadata": {
        "id": "view-in-github",
        "colab_type": "text"
      },
      "source": [
        "<a href=\"https://colab.research.google.com/github/arik08/Sharing/blob/master/%5BStudy%5D_Data_Correlation_Time_delay_Analysis_Core.ipynb\" target=\"_parent\"><img src=\"https://colab.research.google.com/assets/colab-badge.svg\" alt=\"Open In Colab\"/></a>"
      ]
    },
    {
      "cell_type": "code",
      "metadata": {
        "id": "IklDkVJ-xUm1",
        "colab_type": "code",
        "outputId": "44fd80f7-75aa-4db1-f91c-a914d1743374",
        "colab": {
          "base_uri": "https://localhost:8080/",
          "height": 127
        }
      },
      "source": [
        "from google.colab import drive\n",
        "drive.mount('/content/drive')"
      ],
      "execution_count": 0,
      "outputs": [
        {
          "output_type": "stream",
          "text": [
            "Go to this URL in a browser: https://accounts.google.com/o/oauth2/auth?client_id=947318989803-6bn6qk8qdgf4n4g3pfee6491hc0brc4i.apps.googleusercontent.com&redirect_uri=urn%3Aietf%3Awg%3Aoauth%3A2.0%3Aoob&scope=email%20https%3A%2F%2Fwww.googleapis.com%2Fauth%2Fdocs.test%20https%3A%2F%2Fwww.googleapis.com%2Fauth%2Fdrive%20https%3A%2F%2Fwww.googleapis.com%2Fauth%2Fdrive.photos.readonly%20https%3A%2F%2Fwww.googleapis.com%2Fauth%2Fpeopleapi.readonly&response_type=code\n",
            "\n",
            "Enter your authorization code:\n",
            "··········\n",
            "Mounted at /content/drive\n"
          ],
          "name": "stdout"
        }
      ]
    },
    {
      "cell_type": "code",
      "metadata": {
        "id": "T7qNsBRPGxbs",
        "colab_type": "code",
        "colab": {}
      },
      "source": [
        "import numpy as np\n",
        "import pandas as pd\n",
        "import matplotlib.pyplot as plt\n",
        "import seaborn as sns\n",
        "df = pd.read_excel('/content/drive/My Drive/Data_for_Analysis/Finex_Study/MG_Pressure_mins_temp.xlsx')"
      ],
      "execution_count": 0,
      "outputs": []
    },
    {
      "cell_type": "code",
      "metadata": {
        "id": "kcCCDI07IWJ4",
        "colab_type": "code",
        "colab": {}
      },
      "source": [
        "######## 데이터 산점도 Plot 출력 기능도 추가할 것. R2도 출력?\n",
        "# 핵심코드...?\n",
        "\n",
        "def corr_mean(num1,num2,delay_t=150,chartshow=False):\n",
        "    window_size = 300 # 상관계수 산출 샘플 수\n",
        "    t_start = 0\n",
        "    t_end = t_start + window_size\n",
        "    step_size = 50 # Window move steps\n",
        "    rss=[]\n",
        "    while t_end < 5400:\n",
        "        d1 = df.iloc[t_start:t_end,num1] # CO2 농도\n",
        "        d2 = df.iloc[t_start:t_end,num2] # 측정하고자 하는 태그\n",
        "        rs = [d1.corr(d2.shift(lag)) for lag in range(-int(delay_t),int(delay_t+1))] # Core Process\n",
        "        rss.append(rs)\n",
        "        t_start = t_start + step_size\n",
        "        t_end = t_end + step_size\n",
        "    rss = pd.DataFrame(rss) # 2차원 Heatmap 배열 완성\n",
        "\n",
        "    x = range(-delay_t,delay_t+1)\n",
        "    rss_mean = [rss.iloc[:,i].mean() for i in range(301)] # 열 방향 값들의 평균 산출, 배열 생성\n",
        "    rss_mean_cen = rss_mean[int(np.ceil(len(rss_mean)/2))] \n",
        "    \n",
        "    rss_max = max(rss_mean) \n",
        "    rss_min = min(rss_mean)\n",
        "    offset_max = np.ceil(len(rss_mean)/2) - np.argmax(rss_mean) \n",
        "    offset_min = np.ceil(len(rss_mean)/2) - np.argmin(rss_mean)\n",
        "    \n",
        "    if abs(rss_max) > abs(rss_min): \n",
        "        rss_opt = rss_max \n",
        "        offset_opt = offset_max\n",
        "    else:\n",
        "        rss_opt = rss_min\n",
        "        offset_opt = offset_min\n",
        "\n",
        "    rss_val = [0,0,0,0,0,0,0]\n",
        "    rss_val[0] = round(rss_mean_cen,3) # 시간차 미고려시(=0) 상관계수\n",
        "    rss_val[1] = round(rss_opt,3)      # 최적 상관계수 값\n",
        "    rss_val[2] = int(-offset_opt)+1    # 최적 상관계수 시간차\n",
        "    rss_val[3] = round(rss_max,3)      # 최대 상관계수 값\n",
        "    rss_val[4] = int(offset_max)+1     # 최대 상관계수 시간차\n",
        "    rss_val[5] = round(rss_min,3)      # 최소 상관계수 값\n",
        "    rss_val[6] = int(offset_min)+1     # 최소 상관계수 시간차\n",
        "    # rss_val[7] = ###############     # 최적 시간차에서의 시계열 표준편차\n",
        "\n",
        "    if chartshow:\n",
        "        f,ax = plt.subplots(figsize=(10,9))\n",
        "        sns.heatmap(rss,cmap='RdBu_r',ax=ax)\n",
        "        tag_name1=df.columns[num1]; tag_name2=df.columns[num2]\n",
        "        ax.set(title=f'xCorr : ['+str(num1)+']'+str(tag_name1)+' - '+'['+str(num2)+']'+str(tag_name2)\n",
        "        +', cen:'+str(round(rss_val[0],2))+', opt:'+str(round(rss_val[1],2))+', offset:'+str(round(rss_val[2],2)),xlim=[0,301], xlabel='Offset',ylabel='Epochs')\n",
        "        ax.set_xticks([0, 50, 100, 151, 201, 251, 301])\n",
        "        ax.set_xticklabels([-150, -100, -50, 0, 50, 100, 150]);\n",
        "        plt.savefig('/content/drive/My Drive/Images/xCorr_'+str(num1)+'.'+str(num2)+'_'+str(tag_name1)+'-'+str(tag_name2)+'.png')\n",
        "        plt.close()\n",
        "\n",
        "        plt.figure(2,figsize = (10,8))\n",
        "        plt.subplot(2,1,1)\n",
        "        plt.plot(x,rss_mean,'b-')\n",
        "        plt.grid()\n",
        "        plt.axis([-150,150,-0.6,0.6])\n",
        "        plt.hlines(0,-150,150,colors='r')\n",
        "        plt.vlines(0,-0.6,0.6,colors='r')\n",
        "        plt.title('['+str(num1)+']'+str(tag_name1)+' - '+'['+str(num2)+']'+str(tag_name2)\n",
        "        +', cen:'+str(round(rss_val[0],2))+', opt:'+str(round(rss_val[1],2))+', offset:'+str(round(rss_val[2],2)))\n",
        "\n",
        "        plt.subplot(2,1,2)\n",
        "        if abs(rss_max) > abs(rss_min): \n",
        "            opt_posit = np.argmax(rss_mean)\n",
        "        else:\n",
        "            opt_posit = np.argmin(rss_mean)\n",
        "        plt.plot(rss.iloc[:,opt_posit],'b-')\n",
        "        plt.grid()\n",
        "        plt.hlines(0,0,100,colors='r')\n",
        "        plt.axis([0,100,-0.8,0.8])\n",
        "        plt.xlabel('Time')\n",
        "\n",
        "        plt.savefig('/content/drive/My Drive/Images/xCorr_'+str(num1)+'.'+str(num2)+'_'+str(tag_name1)+'-'+str(tag_name2)+'_line.png')\n",
        "        plt.close()\n",
        "\n",
        "    return x,rss_mean,rss_val"
      ],
      "execution_count": 0,
      "outputs": []
    },
    {
      "cell_type": "code",
      "metadata": {
        "id": "ZJ3e5AQwIqzk",
        "colab_type": "code",
        "outputId": "afaff733-701a-4ae0-fa0f-8190f15a02cb",
        "colab": {
          "base_uri": "https://localhost:8080/",
          "height": 71
        }
      },
      "source": [
        "# 중간 확인용\n",
        "a,b,c = corr_mean(89,114,chartshow=True)\n",
        "print('Center_rs :',round(c[0],3))\n",
        "print('Optimum_rs:',round(c[1],3))\n",
        "print('Time shift:',int(c[2]),'steps')"
      ],
      "execution_count": 0,
      "outputs": [
        {
          "output_type": "stream",
          "text": [
            "Center_rs : 0.064\n",
            "Optimum_rs: 0.275\n",
            "Time shift: -9 steps\n"
          ],
          "name": "stdout"
        }
      ]
    },
    {
      "cell_type": "code",
      "metadata": {
        "id": "X05dTIcsq6Lj",
        "colab_type": "code",
        "colab": {}
      },
      "source": [
        "# 차트 자동저장 및 엑셀 결과 출력용\n",
        "\n",
        "rss_mean=[]\n",
        "for i in [3]: # 비교대상 (Y)\n",
        "    # for j in range(1,169+1): #1~169 + 1\n",
        "    for j in [4,5,6,7,8,9]: # 비교대상 (X)\n",
        "        print(\"Calculating...\",i,'-',j)\n",
        "        try:\n",
        "            a,b,c = corr_mean(i,j,chartshow=True)\n",
        "            rss_mean.append([i,j,c[0],c[1],c[2],c[3],c[4],c[5],c[6]])\n",
        "        except ValueError:  \n",
        "            pass\n",
        "\n",
        "rss_mean = pd.DataFrame(rss_mean)\n",
        "rss_mean.to_csv(\"/content/drive/My Drive/Output/rss_mean.csv\", header=False, index=False)"
      ],
      "execution_count": 0,
      "outputs": []
    },
    {
      "cell_type": "code",
      "metadata": {
        "id": "n-3XRfv-eT8V",
        "colab_type": "code",
        "colab": {}
      },
      "source": [
        ""
      ],
      "execution_count": 0,
      "outputs": []
    }
  ]
}